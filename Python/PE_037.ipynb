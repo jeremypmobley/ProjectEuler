{
 "cells": [
  {
   "cell_type": "markdown",
   "metadata": {},
   "source": [
    "#### PE 37\n",
    "\n",
    "The number 3797 has an interesting property. Being prime itself, it is possible to continuously remove digits from left to right, and remain prime at each stage: 3797, 797, 97, and 7. Similarly we can work from right to left: 3797, 379, 37, and 3.\n",
    "\n",
    "Find the sum of the only eleven primes that are both truncatable from left to right and right to left.\n",
    "\n",
    "NOTE: 2, 3, 5, and 7 are not considered to be truncatable primes."
   ]
  },
  {
   "cell_type": "code",
   "execution_count": 1,
   "metadata": {},
   "outputs": [],
   "source": [
    "import math\n",
    "import numpy as np"
   ]
  },
  {
   "cell_type": "code",
   "execution_count": 2,
   "metadata": {},
   "outputs": [],
   "source": [
    "def check_prime(num:int) -> bool:\n",
    "    \"\"\" Function to check if a number is prime \"\"\"\n",
    "    if num ==1:\n",
    "        return False\n",
    "    if num in [2,3,5]:\n",
    "        return True\n",
    "    if num % 2 == 0:\n",
    "        return False\n",
    "    if num % 3 == 0:\n",
    "        return False\n",
    "    if num % 5 == 0:\n",
    "        return False\n",
    "    for val in range(7,math.ceil(np.sqrt(num))+1):\n",
    "        if num % val == 0:\n",
    "            return False\n",
    "    else:\n",
    "        return True"
   ]
  },
  {
   "cell_type": "code",
   "execution_count": 3,
   "metadata": {},
   "outputs": [],
   "source": [
    "def check_truncatable(num:int) -> bool:\n",
    "    \"\"\" Function to check if given number is a truncatable prime \"\"\"\n",
    "    for i in range(1,len(str(num))):\n",
    "        #print(int(str(num)[0:i]))\n",
    "        if not check_prime(int(str(num)[0:i])):\n",
    "            return False\n",
    "    for i in range(1,len(str(num))):\n",
    "        #print(int(str(num)[-i:]))\n",
    "        if not check_prime(int(str(num)[-i:])):\n",
    "            return False\n",
    "    return True"
   ]
  },
  {
   "cell_type": "code",
   "execution_count": 4,
   "metadata": {},
   "outputs": [
    {
     "data": {
      "text/plain": [
       "True"
      ]
     },
     "execution_count": 4,
     "metadata": {},
     "output_type": "execute_result"
    }
   ],
   "source": [
    "check_truncatable(3797)"
   ]
  },
  {
   "cell_type": "code",
   "execution_count": 5,
   "metadata": {},
   "outputs": [
    {
     "name": "stdout",
     "output_type": "stream",
     "text": [
      "748317\n",
      "CPU times: user 3.41 s, sys: 10.1 ms, total: 3.42 s\n",
      "Wall time: 3.43 s\n"
     ]
    }
   ],
   "source": [
    "%%time\n",
    "\n",
    "num_truncatable_primes = 0\n",
    "sum_of_truncatable_primes = 0\n",
    "val_to_consider = 11\n",
    "while num_truncatable_primes < 11:\n",
    "    if check_prime(val_to_consider):\n",
    "        if check_truncatable(val_to_consider):\n",
    "            sum_of_truncatable_primes += val_to_consider\n",
    "            num_truncatable_primes += 1\n",
    "    val_to_consider += 2\n",
    "\n",
    "print(sum_of_truncatable_primes)"
   ]
  },
  {
   "cell_type": "code",
   "execution_count": null,
   "metadata": {},
   "outputs": [],
   "source": []
  }
 ],
 "metadata": {
  "kernelspec": {
   "display_name": "Python 3",
   "language": "python",
   "name": "python3"
  },
  "language_info": {
   "codemirror_mode": {
    "name": "ipython",
    "version": 3
   },
   "file_extension": ".py",
   "mimetype": "text/x-python",
   "name": "python",
   "nbconvert_exporter": "python",
   "pygments_lexer": "ipython3",
   "version": "3.6.4"
  }
 },
 "nbformat": 4,
 "nbformat_minor": 2
}
