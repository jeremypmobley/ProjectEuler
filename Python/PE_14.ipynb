{
 "cells": [
  {
   "cell_type": "markdown",
   "metadata": {},
   "source": [
    "#### PE 14\n",
    "\n",
    "The following iterative sequence is defined for the set of positive integers:\n",
    "\n",
    "n → n/2 (n is even)  \n",
    "n → 3n + 1 (n is odd)\n",
    "\n",
    "Using the rule above and starting with 13, we generate the following sequence:\n",
    "\n",
    "13 → 40 → 20 → 10 → 5 → 16 → 8 → 4 → 2 → 1  \n",
    "It can be seen that this sequence (starting at 13 and finishing at 1) contains 10 terms. Although it has not been proved yet (Collatz Problem), it is thought that all starting numbers finish at 1.\n",
    "\n",
    "Which starting number, under one million, produces the longest chain?\n",
    "\n",
    "NOTE: Once the chain starts the terms are allowed to go above one million."
   ]
  },
  {
   "cell_type": "code",
   "execution_count": 28,
   "metadata": {},
   "outputs": [
    {
     "name": "stdout",
     "output_type": "stream",
     "text": [
      "837799\n",
      "CPU times: user 32.1 s, sys: 36.1 ms, total: 32.2 s\n",
      "Wall time: 32.2 s\n"
     ]
    }
   ],
   "source": [
    "%%time\n",
    "\n",
    "longest_chain = 1\n",
    "longest_chain_start_val = 1\n",
    "for i in range(3,1000000):\n",
    "    start_val = i\n",
    "    chain_cnt = 1\n",
    "    while i > 1:\n",
    "        if i % 2 == 0:\n",
    "            i = i/2\n",
    "            chain_cnt += 1\n",
    "        else:\n",
    "            i = (3*i) + 1\n",
    "            chain_cnt += 1\n",
    "    if chain_cnt > longest_chain:\n",
    "        longest_chain = chain_cnt\n",
    "        longest_chain_start_val = start_val\n",
    "\n",
    "print(longest_chain_start_val)"
   ]
  },
  {
   "cell_type": "code",
   "execution_count": 53,
   "metadata": {},
   "outputs": [],
   "source": [
    "def find_chain_cnt(num:int) -> int:\n",
    "    \"\"\" Function to return chain length of given number \"\"\"\n",
    "    if num==1:\n",
    "        return 1\n",
    "    if num % 2 == 0:\n",
    "        return(1 + find_chain_cnt(num/2))\n",
    "    else:\n",
    "        return(1 + find_chain_cnt((3*num) + 1))"
   ]
  },
  {
   "cell_type": "code",
   "execution_count": 54,
   "metadata": {},
   "outputs": [
    {
     "name": "stdout",
     "output_type": "stream",
     "text": [
      "837799\n",
      "CPU times: user 36.1 s, sys: 42.8 ms, total: 36.2 s\n",
      "Wall time: 36.2 s\n"
     ]
    }
   ],
   "source": [
    "%%time\n",
    "\n",
    "longest_chain = 0\n",
    "longest_chain_start_val = -1\n",
    "for i in range(3,1000000):\n",
    "    chain_cnt = find_chain_cnt(i)\n",
    "    if chain_cnt > longest_chain:\n",
    "        longest_chain = chain_cnt\n",
    "        longest_chain_start_val = i\n",
    "\n",
    "print(longest_chain_start_val)"
   ]
  },
  {
   "cell_type": "code",
   "execution_count": 57,
   "metadata": {},
   "outputs": [
    {
     "name": "stdout",
     "output_type": "stream",
     "text": [
      "837799\n",
      "CPU times: user 3.49 s, sys: 46.6 ms, total: 3.54 s\n",
      "Wall time: 3.54 s\n"
     ]
    }
   ],
   "source": [
    "%%time\n",
    "\n",
    "longest_chain = 1\n",
    "chain_cnt_dict = {1:1, \n",
    "                  2:2}\n",
    "for i in range(3,1000000):\n",
    "    start_val = i\n",
    "    chain_cnt = 1\n",
    "    while start_val not in chain_cnt_dict.keys():\n",
    "        if i % 2 == 0:\n",
    "            i = i/2\n",
    "            chain_cnt += 1\n",
    "        else:\n",
    "            i = (3*i) + 1\n",
    "            chain_cnt += 1\n",
    "        if i in chain_cnt_dict.keys():\n",
    "            chain_cnt += chain_cnt_dict[i]\n",
    "            chain_cnt_dict[start_val] = chain_cnt\n",
    "\n",
    "print(max(chain_cnt_dict, key=chain_cnt_dict.get))"
   ]
  },
  {
   "cell_type": "code",
   "execution_count": 61,
   "metadata": {},
   "outputs": [],
   "source": [
    "def find_chain_cnt_from_dict(num:int, chain_cnt_dict:dict) -> int:\n",
    "    \"\"\" Function to return chain length of given number using dict lookup \"\"\"\n",
    "    if num in chain_cnt_dict.keys():\n",
    "        return chain_cnt_dict[num]\n",
    "    if num % 2 == 0:\n",
    "        return (1 + find_chain_cnt_from_dict(num/2, chain_cnt_dict))\n",
    "    else:\n",
    "        return (1 + find_chain_cnt_from_dict((3*num)+1, chain_cnt_dict))"
   ]
  },
  {
   "cell_type": "code",
   "execution_count": 64,
   "metadata": {},
   "outputs": [
    {
     "name": "stdout",
     "output_type": "stream",
     "text": [
      "837799\n",
      "CPU times: user 48 s, sys: 48.3 ms, total: 48.1 s\n",
      "Wall time: 48.1 s\n"
     ]
    }
   ],
   "source": [
    "%%time\n",
    "\n",
    "longest_chain = 0\n",
    "longest_chain_start_val = -1\n",
    "chain_cnt_dict = {1:1}\n",
    "for i in range(3,1000000):\n",
    "    chain_cnt = find_chain_cnt_from_dict(i, chain_cnt_dict)\n",
    "    if chain_cnt > longest_chain:\n",
    "        longest_chain = chain_cnt\n",
    "        longest_chain_start_val = i\n",
    "\n",
    "print(longest_chain_start_val)"
   ]
  },
  {
   "cell_type": "code",
   "execution_count": 74,
   "metadata": {},
   "outputs": [],
   "source": [
    "def find_chain_cnt_from_dict(num:int) -> int:\n",
    "    \"\"\" Function to return chain length of given number using dict lookup \n",
    "    Assumes there is an existing chain_cnt_dict\n",
    "    \"\"\"\n",
    "    if num in chain_cnt_dict.keys():\n",
    "        return chain_cnt_dict[num]\n",
    "    if num % 2 == 0:\n",
    "        return (1 + find_chain_cnt_from_dict(num/2))\n",
    "    else:\n",
    "        return (1 + find_chain_cnt_from_dict((3*num)+1))"
   ]
  },
  {
   "cell_type": "code",
   "execution_count": 75,
   "metadata": {},
   "outputs": [
    {
     "name": "stdout",
     "output_type": "stream",
     "text": [
      "837799\n",
      "CPU times: user 53.3 s, sys: 86.1 ms, total: 53.3 s\n",
      "Wall time: 53.4 s\n"
     ]
    }
   ],
   "source": [
    "%%time\n",
    "\n",
    "longest_chain = 0\n",
    "longest_chain_start_val = -1\n",
    "chain_cnt_dict = {1:1}\n",
    "for i in range(3,1000000):\n",
    "    chain_cnt = find_chain_cnt_from_dict(i)\n",
    "    if chain_cnt > longest_chain:\n",
    "        longest_chain = chain_cnt\n",
    "        longest_chain_start_val = i\n",
    "\n",
    "print(longest_chain_start_val)"
   ]
  },
  {
   "cell_type": "code",
   "execution_count": null,
   "metadata": {},
   "outputs": [],
   "source": []
  }
 ],
 "metadata": {
  "kernelspec": {
   "display_name": "Python 3",
   "language": "python",
   "name": "python3"
  },
  "language_info": {
   "codemirror_mode": {
    "name": "ipython",
    "version": 3
   },
   "file_extension": ".py",
   "mimetype": "text/x-python",
   "name": "python",
   "nbconvert_exporter": "python",
   "pygments_lexer": "ipython3",
   "version": "3.6.4"
  }
 },
 "nbformat": 4,
 "nbformat_minor": 2
}
