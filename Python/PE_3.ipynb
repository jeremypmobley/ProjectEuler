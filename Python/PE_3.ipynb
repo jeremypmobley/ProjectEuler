{
 "cells": [
  {
   "cell_type": "markdown",
   "metadata": {},
   "source": [
    "### PE 3"
   ]
  },
  {
   "cell_type": "markdown",
   "metadata": {},
   "source": [
    "The prime factors of 13195 are 5, 7, 13 and 29.\n",
    "\n",
    "What is the largest prime factor of the number 600851475143 ?"
   ]
  },
  {
   "cell_type": "code",
   "execution_count": 1,
   "metadata": {},
   "outputs": [],
   "source": [
    "import numpy as np\n",
    "import math"
   ]
  },
  {
   "cell_type": "code",
   "execution_count": 2,
   "metadata": {},
   "outputs": [],
   "source": [
    "def check_prime(num:int) -> bool:\n",
    "    \"\"\" Function to check if a number is prime \"\"\"\n",
    "    if num % 2 == 0:\n",
    "        return False\n",
    "    if num % 3 == 0:\n",
    "        return False\n",
    "    if num % 5 == 0:\n",
    "        return False\n",
    "    for val in range(7,math.ceil(np.sqrt(num))+1):\n",
    "        if num % val == 0:\n",
    "            return False\n",
    "    else:\n",
    "        return True"
   ]
  },
  {
   "cell_type": "code",
   "execution_count": 3,
   "metadata": {},
   "outputs": [],
   "source": [
    "def get_list_of_factors(num:int) -> list:\n",
    "    \"\"\" Function to return a list of all factors of a given number \"\"\"\n",
    "    list_of_factors = []\n",
    "    for i in range(2,math.ceil(np.sqrt(num))):\n",
    "        if num % i == 0:\n",
    "            list_of_factors.append(i)\n",
    "            list_of_factors.append(int(num/i))\n",
    "    return list_of_factors"
   ]
  },
  {
   "cell_type": "code",
   "execution_count": 4,
   "metadata": {},
   "outputs": [],
   "source": [
    "def find_largest_prime_factor(num:int) -> int:\n",
    "    \"\"\" Function to find largest prime factor of a number \"\"\"\n",
    "    max_prime_factor = 1\n",
    "    for val in get_list_of_factors(num):\n",
    "        if check_prime(val):\n",
    "            if val > max_prime_factor:\n",
    "                max_prime_factor = val\n",
    "    return max_prime_factor"
   ]
  },
  {
   "cell_type": "code",
   "execution_count": 5,
   "metadata": {},
   "outputs": [
    {
     "name": "stdout",
     "output_type": "stream",
     "text": [
      "CPU times: user 96.4 ms, sys: 2.25 ms, total: 98.7 ms\n",
      "Wall time: 97 ms\n"
     ]
    },
    {
     "data": {
      "text/plain": [
       "6857"
      ]
     },
     "execution_count": 5,
     "metadata": {},
     "output_type": "execute_result"
    }
   ],
   "source": [
    "%%time\n",
    "\n",
    "find_largest_prime_factor(num=600851475143)"
   ]
  },
  {
   "cell_type": "code",
   "execution_count": null,
   "metadata": {},
   "outputs": [],
   "source": []
  }
 ],
 "metadata": {
  "kernelspec": {
   "display_name": "Python 3",
   "language": "python",
   "name": "python3"
  },
  "language_info": {
   "codemirror_mode": {
    "name": "ipython",
    "version": 3
   },
   "file_extension": ".py",
   "mimetype": "text/x-python",
   "name": "python",
   "nbconvert_exporter": "python",
   "pygments_lexer": "ipython3",
   "version": "3.6.4"
  }
 },
 "nbformat": 4,
 "nbformat_minor": 2
}
