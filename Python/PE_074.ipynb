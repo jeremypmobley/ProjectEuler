{
 "cells": [
  {
   "cell_type": "markdown",
   "metadata": {},
   "source": [
    "#### PE 74\n",
    "The number 145 is well known for the property that the sum of the factorial of its digits is equal to 145:\n",
    "\n",
    "1! + 4! + 5! = 1 + 24 + 120 = 145\n",
    "\n",
    "Perhaps less well known is 169, in that it produces the longest chain of numbers that link back to 169; it turns out that there are only three such loops that exist:\n",
    "\n",
    "169 → 363601 → 1454 → 169  \n",
    "871 → 45361 → 871  \n",
    "872 → 45362 → 872  \n",
    "\n",
    "It is not difficult to prove that EVERY starting number will eventually get stuck in a loop. For example,\n",
    "\n",
    "69 → 363600 → 1454 → 169 → 363601 (→ 1454)  \n",
    "78 → 45360 → 871 → 45361 (→ 871)  \n",
    "540 → 145 (→ 145)  \n",
    "\n",
    "Starting with 69 produces a chain of five non-repeating terms, but the longest non-repeating chain with a starting number below one million is sixty terms.\n",
    "\n",
    "How many chains, with a starting number below one million, contain exactly sixty non-repeating terms?"
   ]
  },
  {
   "cell_type": "code",
   "execution_count": 1,
   "metadata": {},
   "outputs": [],
   "source": [
    "import math"
   ]
  },
  {
   "cell_type": "code",
   "execution_count": 2,
   "metadata": {},
   "outputs": [],
   "source": [
    "def sum_factorial_digits(num:int) -> int:\n",
    "    \"\"\" Function to calculate the sum of factorial of each digit of given input number\"\"\"\n",
    "    digits_sum = 0\n",
    "    for digit in str(num):\n",
    "        digits_sum += math.factorial(int(digit))\n",
    "    return digits_sum"
   ]
  },
  {
   "cell_type": "code",
   "execution_count": 28,
   "metadata": {},
   "outputs": [
    {
     "data": {
      "text/plain": [
       "145"
      ]
     },
     "execution_count": 28,
     "metadata": {},
     "output_type": "execute_result"
    }
   ],
   "source": [
    "sum_factorial_digits(145)"
   ]
  },
  {
   "cell_type": "code",
   "execution_count": 4,
   "metadata": {},
   "outputs": [
    {
     "name": "stdout",
     "output_type": "stream",
     "text": [
      "363600\n",
      "1454\n",
      "169\n",
      "363601\n",
      "1454\n"
     ]
    }
   ],
   "source": [
    "print(sum_factorial_digits(69))\n",
    "print(sum_factorial_digits(363600))\n",
    "print(sum_factorial_digits(1454))\n",
    "print(sum_factorial_digits(169))\n",
    "print(sum_factorial_digits(363601))"
   ]
  },
  {
   "cell_type": "code",
   "execution_count": 5,
   "metadata": {},
   "outputs": [],
   "source": [
    "def find_digit_factorial_loop_length(num:int, verbose=False) -> int:\n",
    "    \"\"\" Function to find the number of values in the loop of \n",
    "    sum of factorial digits before a duplicate is found\"\"\"\n",
    "    list_of_factorial_digits = [num]\n",
    "    duplicate_found = False\n",
    "    while duplicate_found is False:\n",
    "        sum_fac_digits = sum_factorial_digits(num)\n",
    "        if verbose:\n",
    "            print(sum_fac_digits)\n",
    "        if sum_fac_digits in list_of_factorial_digits:\n",
    "            duplicate_found = True\n",
    "        else:\n",
    "            list_of_factorial_digits.append(sum_fac_digits)\n",
    "            num = sum_fac_digits\n",
    "    return len(list_of_factorial_digits)"
   ]
  },
  {
   "cell_type": "code",
   "execution_count": 6,
   "metadata": {},
   "outputs": [
    {
     "data": {
      "text/plain": [
       "1"
      ]
     },
     "execution_count": 6,
     "metadata": {},
     "output_type": "execute_result"
    }
   ],
   "source": [
    "find_digit_factorial_loop_length(145)"
   ]
  },
  {
   "cell_type": "code",
   "execution_count": 90,
   "metadata": {},
   "outputs": [
    {
     "name": "stdout",
     "output_type": "stream",
     "text": [
      "363600\n",
      "1454\n",
      "169\n",
      "363601\n",
      "1454\n"
     ]
    },
    {
     "data": {
      "text/plain": [
       "5"
      ]
     },
     "execution_count": 90,
     "metadata": {},
     "output_type": "execute_result"
    }
   ],
   "source": [
    "find_digit_factorial_loop_length(69, verbose=True)"
   ]
  },
  {
   "cell_type": "markdown",
   "metadata": {},
   "source": [
    "#### Brute force loop over all values"
   ]
  },
  {
   "cell_type": "code",
   "execution_count": 8,
   "metadata": {},
   "outputs": [
    {
     "name": "stdout",
     "output_type": "stream",
     "text": [
      "402\n",
      "CPU times: user 1min 5s, sys: 280 ms, total: 1min 6s\n",
      "Wall time: 1min 6s\n"
     ]
    }
   ],
   "source": [
    "%%time\n",
    "\n",
    "num_vals60 = 0\n",
    "for i in range(1000000):\n",
    "    #print(i, find_digit_factorial_loop_length(i))\n",
    "    if find_digit_factorial_loop_length(i) == 60:\n",
    "        #print(i)\n",
    "        num_vals60 += 1\n",
    "\n",
    "print(num_vals60)"
   ]
  },
  {
   "cell_type": "code",
   "execution_count": null,
   "metadata": {},
   "outputs": [],
   "source": []
  },
  {
   "cell_type": "markdown",
   "metadata": {},
   "source": [
    "#### Using dictionary lookup for previously seen loops of values"
   ]
  },
  {
   "cell_type": "code",
   "execution_count": 89,
   "metadata": {},
   "outputs": [
    {
     "name": "stdout",
     "output_type": "stream",
     "text": [
      "402\n",
      "CPU times: user 4.41 s, sys: 50 ms, total: 4.46 s\n",
      "Wall time: 4.47 s\n"
     ]
    }
   ],
   "source": [
    "%%time\n",
    "\n",
    "digit_len_lookup = {145: 1, 69: 5}\n",
    "num_vals60 = 0\n",
    "i = 1\n",
    "while i < 1000000:\n",
    "    val_to_check = i\n",
    "    if val_to_check in digit_len_lookup:\n",
    "        digit_len = digit_len_lookup[val_to_check]\n",
    "    else:\n",
    "        list_of_factorial_digits = [val_to_check]\n",
    "        duplicate_found = False\n",
    "        while duplicate_found is False:\n",
    "            sum_fac_digits = sum_factorial_digits(val_to_check)\n",
    "            if sum_fac_digits in digit_len_lookup:\n",
    "                digit_len = digit_len_lookup[sum_fac_digits] + len(list_of_factorial_digits)\n",
    "                digit_len_lookup[i] = digit_len\n",
    "                duplicate_found = True                \n",
    "            if sum_fac_digits in list_of_factorial_digits:\n",
    "                index_val = list_of_factorial_digits.index(sum_fac_digits)\n",
    "                for val in range(index_val+1):\n",
    "                    digit_len_lookup[list_of_factorial_digits[val]] = len(list_of_factorial_digits) - val\n",
    "                digit_len = len(list_of_factorial_digits)\n",
    "                duplicate_found = True\n",
    "            else:\n",
    "                list_of_factorial_digits.append(sum_fac_digits)\n",
    "                val_to_check = sum_fac_digits\n",
    "    if digit_len == 60:\n",
    "        num_vals60 += 1\n",
    "    i += 1\n",
    "\n",
    "print(num_vals60)"
   ]
  },
  {
   "cell_type": "code",
   "execution_count": null,
   "metadata": {},
   "outputs": [],
   "source": []
  },
  {
   "cell_type": "code",
   "execution_count": null,
   "metadata": {},
   "outputs": [],
   "source": []
  }
 ],
 "metadata": {
  "kernelspec": {
   "display_name": "Python 3",
   "language": "python",
   "name": "python3"
  },
  "language_info": {
   "codemirror_mode": {
    "name": "ipython",
    "version": 3
   },
   "file_extension": ".py",
   "mimetype": "text/x-python",
   "name": "python",
   "nbconvert_exporter": "python",
   "pygments_lexer": "ipython3",
   "version": "3.6.4"
  }
 },
 "nbformat": 4,
 "nbformat_minor": 2
}
