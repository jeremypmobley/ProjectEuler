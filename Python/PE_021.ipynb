{
 "cells": [
  {
   "cell_type": "markdown",
   "metadata": {},
   "source": [
    "#### PE 21\n",
    "\n",
    "Let d(n) be defined as the sum of proper divisors of n (numbers less than n which divide evenly into n).\n",
    "\n",
    "If d(a) = b and d(b) = a, where a ≠ b, then a and b are an amicable pair and each of a and b are called amicable numbers.\n",
    "\n",
    "For example, the proper divisors of 220 are 1, 2, 4, 5, 10, 11, 20, 22, 44, 55 and 110; therefore d(220) = 284. The proper divisors of 284 are 1, 2, 4, 71 and 142; so d(284) = 220.\n",
    "\n",
    "Evaluate the sum of all the amicable numbers under 10000."
   ]
  },
  {
   "cell_type": "code",
   "execution_count": 2,
   "metadata": {},
   "outputs": [],
   "source": [
    "import math\n",
    "import numpy as np"
   ]
  },
  {
   "cell_type": "code",
   "execution_count": 24,
   "metadata": {},
   "outputs": [],
   "source": [
    "def sum_proper_divisors(num:int) -> int:\n",
    "    \"\"\" Function to return the sum of the proper divisors of the given number \"\"\"\n",
    "    sum_to_return = 1\n",
    "    for i in range(2,math.ceil(np.sqrt(num))):\n",
    "        if num % i == 0:\n",
    "            sum_to_return += i\n",
    "            sum_to_return += num/i\n",
    "    return int(sum_to_return)"
   ]
  },
  {
   "cell_type": "code",
   "execution_count": 26,
   "metadata": {},
   "outputs": [
    {
     "name": "stdout",
     "output_type": "stream",
     "text": [
      "284\n",
      "220\n"
     ]
    }
   ],
   "source": [
    "print(sum_proper_divisors(220))\n",
    "print(sum_proper_divisors(284))"
   ]
  },
  {
   "cell_type": "code",
   "execution_count": 140,
   "metadata": {},
   "outputs": [
    {
     "name": "stdout",
     "output_type": "stream",
     "text": [
      "31626\n",
      "CPU times: user 61.5 ms, sys: 2.67 ms, total: 64.2 ms\n",
      "Wall time: 62.6 ms\n"
     ]
    }
   ],
   "source": [
    "%%time\n",
    "\n",
    "list_of_divisor_sums = []\n",
    "amicable_nums = []\n",
    "for i in range(1,10000):\n",
    "    divisor_sum = sum_proper_divisors(i)\n",
    "    if divisor_sum > 1:\n",
    "        if divisor_sum < len(list_of_divisor_sums):\n",
    "            if i == list_of_divisor_sums[divisor_sum-1]:\n",
    "                amicable_nums.append(i)\n",
    "                amicable_nums.append(divisor_sum)\n",
    "    list_of_divisor_sums.append(divisor_sum)\n",
    "\n",
    "print(sum(amicable_nums))"
   ]
  },
  {
   "cell_type": "code",
   "execution_count": null,
   "metadata": {},
   "outputs": [],
   "source": []
  }
 ],
 "metadata": {
  "kernelspec": {
   "display_name": "Python 3",
   "language": "python",
   "name": "python3"
  },
  "language_info": {
   "codemirror_mode": {
    "name": "ipython",
    "version": 3
   },
   "file_extension": ".py",
   "mimetype": "text/x-python",
   "name": "python",
   "nbconvert_exporter": "python",
   "pygments_lexer": "ipython3",
   "version": "3.6.4"
  }
 },
 "nbformat": 4,
 "nbformat_minor": 2
}
