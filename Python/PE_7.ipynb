{
 "cells": [
  {
   "cell_type": "markdown",
   "metadata": {},
   "source": [
    "#### PE 7\n",
    "\n",
    "By listing the first six prime numbers: 2, 3, 5, 7, 11, and 13, we can see that the 6th prime is 13.\n",
    "\n",
    "What is the 10 001st prime number?"
   ]
  },
  {
   "cell_type": "code",
   "execution_count": 7,
   "metadata": {},
   "outputs": [],
   "source": [
    "import math\n",
    "import numpy as np"
   ]
  },
  {
   "cell_type": "code",
   "execution_count": 8,
   "metadata": {},
   "outputs": [],
   "source": [
    "def check_prime(num):\n",
    "    \"\"\" Function to check if a number is prime \"\"\"\n",
    "    if num % 2 == 0:\n",
    "        return False\n",
    "    if num % 3 == 0:\n",
    "        return False\n",
    "    if num % 5 == 0:\n",
    "        return False\n",
    "    if math.ceil(np.sqrt(num)) >= 7:\n",
    "        for val in range(7,math.ceil(np.sqrt(num))+1):\n",
    "            if val % num == 0:\n",
    "                return False\n",
    "            else:\n",
    "                return True\n",
    "    else:\n",
    "        return True"
   ]
  },
  {
   "cell_type": "code",
   "execution_count": 16,
   "metadata": {},
   "outputs": [
    {
     "name": "stdout",
     "output_type": "stream",
     "text": [
      "4 : 7\n",
      "5 : 11\n",
      "6 : 13\n"
     ]
    }
   ],
   "source": [
    "num_primes = 3\n",
    "for num in range(7,15):\n",
    "    if check_prime(num):\n",
    "        num_primes += 1\n",
    "        print(num_primes, \":\", num)"
   ]
  },
  {
   "cell_type": "code",
   "execution_count": 19,
   "metadata": {},
   "outputs": [
    {
     "name": "stdout",
     "output_type": "stream",
     "text": [
      "37501\n",
      "CPU times: user 42.5 ms, sys: 2.02 ms, total: 44.5 ms\n",
      "Wall time: 43 ms\n"
     ]
    }
   ],
   "source": [
    "%%time\n",
    "num_primes = 3\n",
    "start_val = 7\n",
    "while num_primes <= 10001:\n",
    "    if check_prime(start_val):\n",
    "        num_primes += 1\n",
    "    start_val += 2\n",
    "\n",
    "print(start_val)"
   ]
  },
  {
   "cell_type": "code",
   "execution_count": null,
   "metadata": {},
   "outputs": [],
   "source": []
  }
 ],
 "metadata": {
  "kernelspec": {
   "display_name": "Python 3",
   "language": "python",
   "name": "python3"
  },
  "language_info": {
   "codemirror_mode": {
    "name": "ipython",
    "version": 3
   },
   "file_extension": ".py",
   "mimetype": "text/x-python",
   "name": "python",
   "nbconvert_exporter": "python",
   "pygments_lexer": "ipython3",
   "version": "3.6.4"
  }
 },
 "nbformat": 4,
 "nbformat_minor": 2
}
