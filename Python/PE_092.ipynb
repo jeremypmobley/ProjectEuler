{
 "cells": [
  {
   "cell_type": "markdown",
   "metadata": {},
   "source": [
    "#### PE 92\n",
    "\n",
    "A number chain is created by continuously adding the square of the digits in a number to form a new number until it has been seen before.\n",
    "\n",
    "For example,\n",
    "\n",
    "44 → 32 → 13 → 10 → 1 → 1  \n",
    "85 → 89 → 145 → 42 → 20 → 4 → 16 → 37 → 58 → 89\n",
    "\n",
    "Therefore any chain that arrives at 1 or 89 will become stuck in an endless loop. What is most amazing is that EVERY starting number will eventually arrive at 1 or 89.\n",
    "\n",
    "How many starting numbers below ten million will arrive at 89?"
   ]
  },
  {
   "cell_type": "code",
   "execution_count": 40,
   "metadata": {},
   "outputs": [],
   "source": [
    "def calc_square_of_digits(num:int) -> int:\n",
    "    \"\"\" Function to calculate the square of the digits for the given input number \"\"\"\n",
    "    sum_of_squares = 0\n",
    "    for digit in range(len(str(num))):\n",
    "        sum_of_squares += int(str(num)[digit])**2\n",
    "    return sum_of_squares"
   ]
  },
  {
   "cell_type": "code",
   "execution_count": 41,
   "metadata": {},
   "outputs": [
    {
     "name": "stdout",
     "output_type": "stream",
     "text": [
      "32\n",
      "89\n",
      "CPU times: user 99 µs, sys: 75 µs, total: 174 µs\n",
      "Wall time: 138 µs\n"
     ]
    }
   ],
   "source": [
    "%%time\n",
    "print(calc_square_of_digits(44))\n",
    "print(calc_square_of_digits(85))"
   ]
  },
  {
   "cell_type": "code",
   "execution_count": 42,
   "metadata": {},
   "outputs": [],
   "source": [
    "def calc_square_of_digits2(num:int) -> int:\n",
    "    \"\"\" Function to calculate the square of the digits for the given input number \"\"\"\n",
    "    return sum([int(digit)**2 for digit in str(num)])"
   ]
  },
  {
   "cell_type": "code",
   "execution_count": 43,
   "metadata": {},
   "outputs": [
    {
     "name": "stdout",
     "output_type": "stream",
     "text": [
      "32\n",
      "89\n",
      "CPU times: user 278 µs, sys: 120 µs, total: 398 µs\n",
      "Wall time: 302 µs\n"
     ]
    }
   ],
   "source": [
    "%%time\n",
    "print(calc_square_of_digits2(44))\n",
    "print(calc_square_of_digits2(85))"
   ]
  },
  {
   "cell_type": "code",
   "execution_count": 46,
   "metadata": {},
   "outputs": [
    {
     "name": "stdout",
     "output_type": "stream",
     "text": [
      "12.5 µs ± 701 ns per loop (mean ± std. dev. of 7 runs, 100000 loops each)\n"
     ]
    }
   ],
   "source": [
    "%%timeit\n",
    "calc_square_of_digits(85)\n",
    "calc_square_of_digits(999)\n",
    "calc_square_of_digits(9999)\n",
    "calc_square_of_digits(99999)"
   ]
  },
  {
   "cell_type": "code",
   "execution_count": 47,
   "metadata": {},
   "outputs": [
    {
     "name": "stdout",
     "output_type": "stream",
     "text": [
      "9.76 µs ± 156 ns per loop (mean ± std. dev. of 7 runs, 100000 loops each)\n"
     ]
    }
   ],
   "source": [
    "%%timeit\n",
    "calc_square_of_digits2(85)\n",
    "calc_square_of_digits2(999)\n",
    "calc_square_of_digits2(9999)\n",
    "calc_square_of_digits2(99999)"
   ]
  },
  {
   "cell_type": "code",
   "execution_count": null,
   "metadata": {},
   "outputs": [],
   "source": []
  },
  {
   "cell_type": "code",
   "execution_count": 3,
   "metadata": {},
   "outputs": [],
   "source": [
    "def num_chain_89loop(num:int) -> bool:\n",
    "    \"\"\" Function to determine if given input number ends up in a sum of square of digits \n",
    "    endless loop eventually arriving at 89\"\"\"\n",
    "    endless_loop_reached = False\n",
    "    while endless_loop_reached is False:\n",
    "        new_num = calc_square_of_digits(num)\n",
    "        if new_num == 1:\n",
    "            return False\n",
    "        if new_num == 89:\n",
    "            return True\n",
    "        num = new_num"
   ]
  },
  {
   "cell_type": "code",
   "execution_count": 4,
   "metadata": {},
   "outputs": [
    {
     "name": "stdout",
     "output_type": "stream",
     "text": [
      "False\n",
      "True\n"
     ]
    }
   ],
   "source": [
    "print(num_chain_89loop(44))\n",
    "print(num_chain_89loop(85))"
   ]
  },
  {
   "cell_type": "code",
   "execution_count": 5,
   "metadata": {},
   "outputs": [
    {
     "name": "stdout",
     "output_type": "stream",
     "text": [
      "856929\n",
      "CPU times: user 18.4 s, sys: 100 ms, total: 18.5 s\n",
      "Wall time: 18.6 s\n"
     ]
    }
   ],
   "source": [
    "%%time\n",
    "nums_in_89_loop = 0\n",
    "for i in range(1,1000000):\n",
    "    if num_chain_89loop(i):\n",
    "        nums_in_89_loop += 1\n",
    "print(nums_in_89_loop)"
   ]
  },
  {
   "cell_type": "code",
   "execution_count": null,
   "metadata": {},
   "outputs": [],
   "source": []
  },
  {
   "cell_type": "code",
   "execution_count": 10,
   "metadata": {},
   "outputs": [
    {
     "name": "stdout",
     "output_type": "stream",
     "text": [
      "1\n",
      "1,2\n",
      "4,16,37,58,89,3\n",
      "9,81,65,61,37,58,89,4\n",
      "16,37,58,89,5\n",
      "25,29,85,89,6\n",
      "36,45,41,17,50,25,29,85,89,7\n",
      "49,97,130,10,1,8\n",
      "64,52,29,85,89,9\n",
      "81,65,61,37,58,89,"
     ]
    }
   ],
   "source": [
    "nums_in_89_loop = 0\n",
    "for i in range(1,10):\n",
    "    print(i)\n",
    "    endless_loop_reached = False\n",
    "    while endless_loop_reached is False:\n",
    "        next_num = calc_square_of_digits(i)\n",
    "        print(next_num, end=',')\n",
    "        if next_num == 1:\n",
    "            endless_loop_reached = True\n",
    "        if next_num == 89:\n",
    "            nums_in_89_loop += 1\n",
    "            endless_loop_reached = True\n",
    "        i = next_num"
   ]
  },
  {
   "cell_type": "code",
   "execution_count": 12,
   "metadata": {},
   "outputs": [
    {
     "name": "stdout",
     "output_type": "stream",
     "text": [
      "1\n",
      "1,{1: False, 89: True}\n",
      "2\n",
      "4,16,37,58,89,{1: False, 89: True, 2: True}\n",
      "3\n",
      "9,81,65,61,37,58,89,{1: False, 89: True, 2: True, 3: True}\n",
      "4\n",
      "16,37,58,89,{1: False, 89: True, 2: True, 3: True, 4: True}\n",
      "5\n",
      "25,29,85,89,{1: False, 89: True, 2: True, 3: True, 4: True, 5: True}\n",
      "6\n",
      "36,45,41,17,50,25,29,85,89,{1: False, 89: True, 2: True, 3: True, 4: True, 5: True, 6: True}\n",
      "7\n",
      "49,97,130,10,1,{1: False, 89: True, 2: True, 3: True, 4: True, 5: True, 6: True, 7: False}\n",
      "8\n",
      "64,52,29,85,89,{1: False, 89: True, 2: True, 3: True, 4: True, 5: True, 6: True, 7: False, 8: True}\n",
      "9\n",
      "81,65,61,37,58,89,{1: False, 89: True, 2: True, 3: True, 4: True, 5: True, 6: True, 7: False, 8: True, 9: True}\n"
     ]
    }
   ],
   "source": [
    "dict_lookup = {1:False, \n",
    "               89:True}\n",
    "nums_in_89_loop = 0\n",
    "for i in range(1,10):\n",
    "    print(i)\n",
    "    endless_loop_reached = False\n",
    "    num_to_check = i\n",
    "    while endless_loop_reached is False:\n",
    "        next_num = calc_square_of_digits(num_to_check)\n",
    "        print(next_num, end=',')\n",
    "        if next_num in dict_lookup:\n",
    "            if dict_lookup[next_num] is True:\n",
    "                nums_in_89_loop += 1\n",
    "                dict_lookup[i] = True\n",
    "                endless_loop_reached = True\n",
    "            else:\n",
    "                endless_loop_reached = True\n",
    "        if next_num == 1:\n",
    "            endless_loop_reached = True\n",
    "            dict_lookup[i] = False\n",
    "        if next_num == 89:\n",
    "            nums_in_89_loop += 1\n",
    "            dict_lookup[i] = True\n",
    "            endless_loop_reached = True\n",
    "        num_to_check = next_num\n",
    "    print(dict_lookup)"
   ]
  },
  {
   "cell_type": "code",
   "execution_count": 48,
   "metadata": {},
   "outputs": [
    {
     "name": "stdout",
     "output_type": "stream",
     "text": [
      "856929\n",
      "CPU times: user 5.07 s, sys: 56.6 ms, total: 5.13 s\n",
      "Wall time: 5.14 s\n"
     ]
    }
   ],
   "source": [
    "%%time\n",
    "dict_lookup = {1:False, \n",
    "               89:True}\n",
    "nums_in_89_loop = 0\n",
    "for i in range(1,1000000):\n",
    "    #print(i)\n",
    "    endless_loop_reached = False\n",
    "    num_to_check = i\n",
    "    while endless_loop_reached is False:\n",
    "        next_num = calc_square_of_digits2(num_to_check)\n",
    "        #print(next_num, end=',')\n",
    "        if next_num in dict_lookup:\n",
    "            if dict_lookup[next_num] is True:\n",
    "                nums_in_89_loop += 1\n",
    "                dict_lookup[i] = True\n",
    "                endless_loop_reached = True\n",
    "            else:\n",
    "                endless_loop_reached = True\n",
    "        num_to_check = next_num\n",
    "    #print(dict_lookup)\n",
    "print(nums_in_89_loop)"
   ]
  },
  {
   "cell_type": "code",
   "execution_count": 51,
   "metadata": {},
   "outputs": [
    {
     "name": "stdout",
     "output_type": "stream",
     "text": [
      "856929\n",
      "CPU times: user 5.09 s, sys: 10.8 ms, total: 5.11 s\n",
      "Wall time: 5.11 s\n"
     ]
    }
   ],
   "source": [
    "%%time\n",
    "dict_lookup = {1:False, \n",
    "               89:True}\n",
    "nums_in_89_loop = 0\n",
    "for i in range(1,1000000):\n",
    "    #print(i)\n",
    "    endless_loop_reached = False\n",
    "    num_to_check = i\n",
    "    while endless_loop_reached is False:\n",
    "        next_num = calc_square_of_digits2(num_to_check)\n",
    "        #print(next_num, end=',')\n",
    "        if next_num in dict_lookup:\n",
    "            if dict_lookup[next_num] is True:\n",
    "                nums_in_89_loop += 1\n",
    "                if i < 1000:\n",
    "                    dict_lookup[i] = True\n",
    "                endless_loop_reached = True\n",
    "            else:\n",
    "                endless_loop_reached = True\n",
    "        num_to_check = next_num\n",
    "    #print(dict_lookup)\n",
    "print(nums_in_89_loop)"
   ]
  },
  {
   "cell_type": "code",
   "execution_count": 67,
   "metadata": {},
   "outputs": [
    {
     "name": "stdout",
     "output_type": "stream",
     "text": [
      "856929\n",
      "CPU times: user 4.86 s, sys: 11.4 ms, total: 4.87 s\n",
      "Wall time: 4.87 s\n"
     ]
    }
   ],
   "source": [
    "%%time\n",
    "dict_lookup = {1:False, \n",
    "               89:True}\n",
    "nums_in_89_loop = 0\n",
    "for i in range(1,1000000):\n",
    "    #print(i)\n",
    "    endless_loop_reached = False\n",
    "    num_to_check = i\n",
    "    while endless_loop_reached is False:\n",
    "        next_num = calc_square_of_digits2(num_to_check)\n",
    "        #print(next_num, end=',')\n",
    "        if next_num in dict_lookup:\n",
    "            if dict_lookup[next_num] is True:\n",
    "                nums_in_89_loop += 1\n",
    "                if i < 570:\n",
    "                    dict_lookup[i] = True\n",
    "            endless_loop_reached = True\n",
    "        num_to_check = next_num\n",
    "    #print(dict_lookup)\n",
    "print(nums_in_89_loop)"
   ]
  },
  {
   "cell_type": "code",
   "execution_count": 61,
   "metadata": {},
   "outputs": [
    {
     "name": "stdout",
     "output_type": "stream",
     "text": [
      "8581146\n",
      "CPU times: user 53.4 s, sys: 67.9 ms, total: 53.5 s\n",
      "Wall time: 53.5 s\n"
     ]
    }
   ],
   "source": [
    "%%time\n",
    "dict_lookup = {1:False, \n",
    "               89:True}\n",
    "nums_in_89_loop = 0\n",
    "for i in range(1,10000000):\n",
    "    #print(i)\n",
    "    endless_loop_reached = False\n",
    "    num_to_check = i\n",
    "    while endless_loop_reached is False:\n",
    "        next_num = calc_square_of_digits2(num_to_check)\n",
    "        #print(next_num, end=',')\n",
    "        if next_num in dict_lookup:\n",
    "            if dict_lookup[next_num] is True:\n",
    "                nums_in_89_loop += 1\n",
    "                if i < 570:\n",
    "                    dict_lookup[i] = True\n",
    "            endless_loop_reached = True\n",
    "        num_to_check = next_num\n",
    "    #print(dict_lookup)\n",
    "print(nums_in_89_loop)"
   ]
  },
  {
   "cell_type": "code",
   "execution_count": null,
   "metadata": {},
   "outputs": [],
   "source": []
  }
 ],
 "metadata": {
  "kernelspec": {
   "display_name": "Python 3",
   "language": "python",
   "name": "python3"
  },
  "language_info": {
   "codemirror_mode": {
    "name": "ipython",
    "version": 3
   },
   "file_extension": ".py",
   "mimetype": "text/x-python",
   "name": "python",
   "nbconvert_exporter": "python",
   "pygments_lexer": "ipython3",
   "version": "3.6.4"
  }
 },
 "nbformat": 4,
 "nbformat_minor": 2
}
